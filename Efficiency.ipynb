{
 "cells": [
  {
   "cell_type": "markdown",
   "metadata": {
    "id": "M38UvN4txGsv"
   },
   "source": [
    "This notebook is a template for you to measure efficiency of your model on a single datapoint in terms of\n",
    "\n",
    "1.   Number of model parameters that are actually trained.\n",
    "2.   Floating point operations (FLOPs) during training.\n",
    "3.   Inference time of one sample.\n",
    "4.   Floating point operations (FLOPs) during inference.\n",
    "\n",
    "\n",
    "------------------------------------------------------------------------------\n",
    "\n",
    "*Please measure FLOPs on a **single instance for one epoch during training**. The same holds during testing.*\n",
    "\n",
    "We use PyTorch profiler (https://pytorch.org/tutorials/recipes/recipes/profiler_recipe.html) for measuring FLOPs. The **last 3 code cells** are important for understanding how to utilise the profiler. The rest of the notebook is setting the grounds for the data, model, tokenizer etc.\n",
    "\n",
    "*Note that there's a difference between FLOPs and FLOP/s. We are interested in the first quantity.*"
   ]
  },
  {
   "cell_type": "code",
   "execution_count": 1,
   "metadata": {
    "colab": {
     "base_uri": "https://localhost:8080/"
    },
    "id": "Qu3znLz8kg3z",
    "outputId": "e317d1c5-4350-4916-be86-6dd67312bac4"
   },
   "outputs": [
    {
     "name": "stdout",
     "output_type": "stream",
     "text": [
      "Requirement already satisfied: datasets in /home/ic40844/IndoML(P2)/venv/lib/python3.11/site-packages (2.21.0)\n",
      "Requirement already satisfied: filelock in /home/ic40844/IndoML(P2)/venv/lib/python3.11/site-packages (from datasets) (3.15.4)\n",
      "Requirement already satisfied: numpy>=1.17 in /home/ic40844/IndoML(P2)/venv/lib/python3.11/site-packages (from datasets) (1.26.4)\n",
      "Requirement already satisfied: pyarrow>=15.0.0 in /home/ic40844/IndoML(P2)/venv/lib/python3.11/site-packages (from datasets) (17.0.0)\n",
      "Requirement already satisfied: dill<0.3.9,>=0.3.0 in /home/ic40844/IndoML(P2)/venv/lib/python3.11/site-packages (from datasets) (0.3.8)\n",
      "Requirement already satisfied: pandas in /home/ic40844/IndoML(P2)/venv/lib/python3.11/site-packages (from datasets) (2.2.2)\n",
      "Requirement already satisfied: requests>=2.32.2 in /home/ic40844/IndoML(P2)/venv/lib/python3.11/site-packages (from datasets) (2.32.3)\n",
      "Requirement already satisfied: tqdm>=4.66.3 in /home/ic40844/IndoML(P2)/venv/lib/python3.11/site-packages (from datasets) (4.66.5)\n",
      "Requirement already satisfied: xxhash in /home/ic40844/IndoML(P2)/venv/lib/python3.11/site-packages (from datasets) (3.5.0)\n",
      "Requirement already satisfied: multiprocess in /home/ic40844/IndoML(P2)/venv/lib/python3.11/site-packages (from datasets) (0.70.16)\n",
      "Requirement already satisfied: fsspec<=2024.6.1,>=2023.1.0 in /home/ic40844/IndoML(P2)/venv/lib/python3.11/site-packages (from fsspec[http]<=2024.6.1,>=2023.1.0->datasets) (2024.6.1)\n",
      "Requirement already satisfied: aiohttp in /home/ic40844/IndoML(P2)/venv/lib/python3.11/site-packages (from datasets) (3.10.5)\n",
      "Requirement already satisfied: huggingface-hub>=0.21.2 in /home/ic40844/IndoML(P2)/venv/lib/python3.11/site-packages (from datasets) (0.24.6)\n",
      "Requirement already satisfied: packaging in /home/ic40844/IndoML(P2)/venv/lib/python3.11/site-packages (from datasets) (24.1)\n",
      "Requirement already satisfied: pyyaml>=5.1 in /home/ic40844/IndoML(P2)/venv/lib/python3.11/site-packages (from datasets) (6.0.2)\n",
      "Requirement already satisfied: aiohappyeyeballs>=2.3.0 in /home/ic40844/IndoML(P2)/venv/lib/python3.11/site-packages (from aiohttp->datasets) (2.4.0)\n",
      "Requirement already satisfied: aiosignal>=1.1.2 in /home/ic40844/IndoML(P2)/venv/lib/python3.11/site-packages (from aiohttp->datasets) (1.3.1)\n",
      "Requirement already satisfied: attrs>=17.3.0 in /home/ic40844/IndoML(P2)/venv/lib/python3.11/site-packages (from aiohttp->datasets) (24.2.0)\n",
      "Requirement already satisfied: frozenlist>=1.1.1 in /home/ic40844/IndoML(P2)/venv/lib/python3.11/site-packages (from aiohttp->datasets) (1.4.1)\n",
      "Requirement already satisfied: multidict<7.0,>=4.5 in /home/ic40844/IndoML(P2)/venv/lib/python3.11/site-packages (from aiohttp->datasets) (6.0.5)\n",
      "Requirement already satisfied: yarl<2.0,>=1.0 in /home/ic40844/IndoML(P2)/venv/lib/python3.11/site-packages (from aiohttp->datasets) (1.9.4)\n",
      "Requirement already satisfied: typing-extensions>=3.7.4.3 in /home/ic40844/IndoML(P2)/venv/lib/python3.11/site-packages (from huggingface-hub>=0.21.2->datasets) (4.12.2)\n",
      "Requirement already satisfied: charset-normalizer<4,>=2 in /home/ic40844/IndoML(P2)/venv/lib/python3.11/site-packages (from requests>=2.32.2->datasets) (3.3.2)\n",
      "Requirement already satisfied: idna<4,>=2.5 in /home/ic40844/IndoML(P2)/venv/lib/python3.11/site-packages (from requests>=2.32.2->datasets) (3.8)\n",
      "Requirement already satisfied: urllib3<3,>=1.21.1 in /home/ic40844/IndoML(P2)/venv/lib/python3.11/site-packages (from requests>=2.32.2->datasets) (2.2.2)\n",
      "Requirement already satisfied: certifi>=2017.4.17 in /home/ic40844/IndoML(P2)/venv/lib/python3.11/site-packages (from requests>=2.32.2->datasets) (2024.7.4)\n",
      "Requirement already satisfied: python-dateutil>=2.8.2 in /home/ic40844/IndoML(P2)/venv/lib/python3.11/site-packages (from pandas->datasets) (2.9.0.post0)\n",
      "Requirement already satisfied: pytz>=2020.1 in /home/ic40844/IndoML(P2)/venv/lib/python3.11/site-packages (from pandas->datasets) (2024.1)\n",
      "Requirement already satisfied: tzdata>=2022.7 in /home/ic40844/IndoML(P2)/venv/lib/python3.11/site-packages (from pandas->datasets) (2024.1)\n",
      "Requirement already satisfied: six>=1.5 in /home/ic40844/IndoML(P2)/venv/lib/python3.11/site-packages (from python-dateutil>=2.8.2->pandas->datasets) (1.16.0)\n",
      "\n",
      "\u001b[1m[\u001b[0m\u001b[34;49mnotice\u001b[0m\u001b[1;39;49m]\u001b[0m\u001b[39;49m A new release of pip is available: \u001b[0m\u001b[31;49m24.2\u001b[0m\u001b[39;49m -> \u001b[0m\u001b[32;49m24.3.1\u001b[0m\n",
      "\u001b[1m[\u001b[0m\u001b[34;49mnotice\u001b[0m\u001b[1;39;49m]\u001b[0m\u001b[39;49m To update, run: \u001b[0m\u001b[32;49mpip install --upgrade pip\u001b[0m\n"
     ]
    }
   ],
   "source": [
    "!pip install datasets"
   ]
  },
  {
   "cell_type": "markdown",
   "metadata": {
    "id": "jEKK-GpsojFl"
   },
   "source": [
    "# Imports"
   ]
  },
  {
   "cell_type": "code",
   "execution_count": 2,
   "metadata": {
    "id": "1D0Qif2Sgpdt"
   },
   "outputs": [],
   "source": [
    "import numpy as np\n",
    "import os\n",
    "import transformers\n",
    "import itertools\n",
    "import pandas as pd\n",
    "import math\n",
    "from transformers import GPTNeoXForCausalLM, AutoTokenizer\n",
    "from transformers import (\n",
    "    set_seed,\n",
    ")\n",
    "from transformers import DataCollatorForLanguageModeling, DataCollatorWithPadding\n",
    "from transformers import T5Tokenizer, T5ForConditionalGeneration\n",
    "from sklearn.metrics import accuracy_score\n",
    "import wandb\n",
    "import pickle\n",
    "import string\n",
    "from datasets import Dataset, DatasetDict, load_dataset\n",
    "import torch\n",
    "import torch.nn.functional as F\n",
    "import logging\n",
    "import numpy as np\n",
    "import string\n",
    "import time"
   ]
  },
  {
   "cell_type": "markdown",
   "metadata": {
    "id": "26cv6EuVomTO"
   },
   "source": [
    "# Initialization"
   ]
  },
  {
   "cell_type": "code",
   "execution_count": 3,
   "metadata": {
    "id": "56DVy_AXgraV"
   },
   "outputs": [],
   "source": [
    "SEED = 42\n",
    "\n",
    "MODEL_LOCATION = \"../finetuned_t5small_OnRetrievedData/\"\n",
    "set_seed(SEED)\n",
    "device = torch.device(\"cuda\")\n",
    "tokenizer = T5Tokenizer.from_pretrained(MODEL_LOCATION)\n",
    "logger = logging.getLogger(__name__)\n",
    "tokenizer.pad_token = tokenizer.eos_token"
   ]
  },
  {
   "cell_type": "markdown",
   "metadata": {
    "id": "Hv-Fr7vXqFqa"
   },
   "source": [
    "# Generate data"
   ]
  },
  {
   "cell_type": "code",
   "execution_count": 4,
   "metadata": {
    "id": "b5-QWyX5g6Gu"
   },
   "outputs": [],
   "source": [
    "def generate_non_random_strings(seed):\n",
    "\n",
    "    sequences = []\n",
    "    seq= []\n",
    "    alllines = ''\n",
    "    rng = np.random.default_rng(seed)\n",
    "    sequences = [\"SYS: Hello, I am the customer support bot. What can I do for you? USR: Hello robot. I ordered a pot several days ago but I can't track it. SYS: Could you verify your full name? USR: Patrick Schug SYS: Verify your order number please. USR: It's 843-58572-7002. SYS: You can track your package with your tracking number, which is AGZIM5T6KL. Are you happy about my answer? USR: All good. See you. SYS: Have a nice day! Bye.\"]\n",
    "    tseq = [\"SYS: Hello, I am the customer support bot. What can I do for you? USR: Hi. I ordered a mobile phone several days ago but I can't track it. SYS: May I have your full name? USR: James Salim. SYS: Verify your phone number please. USR: 980.322.8737 is my number. SYS: Track your order using your tracking number, 0UOKFRS1GA. Anything else? USR: No more questions. See you. SYS: Bye.\"]\n",
    "    dataset = Dataset.from_dict(\n",
    "        {\n",
    "            \"text\": sequences,\n",
    "        }\n",
    "    )\n",
    "    test_dataset = Dataset.from_dict(\n",
    "        {\n",
    "            \"text\": tseq\n",
    "        }\n",
    "    )\n",
    "    datasets = DatasetDict(\n",
    "        {\n",
    "            \"train\": dataset,\n",
    "            \"test\": test_dataset\n",
    "        }\n",
    "    )\n",
    "    datasets.set_format(\"torch\")\n",
    "    return datasets"
   ]
  },
  {
   "cell_type": "markdown",
   "metadata": {
    "id": "WqRq9O8fqJXz"
   },
   "source": [
    "# Tokenize the data"
   ]
  },
  {
   "cell_type": "code",
   "execution_count": 5,
   "metadata": {
    "id": "T9rViS9Kg67y"
   },
   "outputs": [],
   "source": [
    "def tokenize_string(tokenizer,dataset):\n",
    "    def encode(example: dict):\n",
    "        sequences = example[\"text\"]\n",
    "        return tokenizer(sequences,truncation=True)\n",
    "\n",
    "    return dataset.map(\n",
    "        encode,\n",
    "        batched=True,\n",
    "    )"
   ]
  },
  {
   "cell_type": "markdown",
   "metadata": {
    "id": "JIuKgxMQqgGV"
   },
   "source": [
    "# Creating trainloader"
   ]
  },
  {
   "cell_type": "code",
   "execution_count": 6,
   "metadata": {
    "colab": {
     "base_uri": "https://localhost:8080/",
     "height": 98,
     "referenced_widgets": [
      "1b87c946d3c444af8ab20216879485a9",
      "14859e58260f4fc8a4af91a11012fa59",
      "b377477f16c24cb38c9f7260331cbb0b",
      "86357ba6c6fa44a482d89baea0031d70",
      "8422214c271845a296a0dbe6d24e02b5",
      "b7c227936f274803a0333d68648d69af",
      "48bf99c3683a4821b995131b2e0ffdb4",
      "7c9a2d48bbb84201857f2f85bbd48850",
      "6fa77c1b1e9a4b2293c171a03a7bd945",
      "6418c8db63ef4048b6a333420dbccb5e",
      "54955d0087f7440f98a1bafdf99fc3c9",
      "99f7d673dd694648b7812f0640126e27",
      "3cbee2569f1d48f993b8d5b761f4fbf9",
      "9df795c5c73f4bb0a04d6239458b2f37",
      "56463fdb6c4a45a4b929d113cf4608ff",
      "d6bd9ba9fd744bf6aa89588c09d331f4",
      "40a9552b209d48b8bfb6bfb07a2fa8f8",
      "ef08ce1444564aeeab5a2f1ec5bbe5b9",
      "a1fa100215d64eac9e3b3bc3ff6adebe",
      "ba4e567b7e494eada16493c7c24741fc",
      "73ce812b466948b0ae69a3c6ca215ea1",
      "0c716b60f7f64af896cc525feda1450e"
     ]
    },
    "id": "woY-JLEThJIv",
    "outputId": "ba7fb89f-8f35-4545-e674-01e402e04772"
   },
   "outputs": [
    {
     "data": {
      "application/vnd.jupyter.widget-view+json": {
       "model_id": "c9401a9011ae4253adeaf67de9b87f10",
       "version_major": 2,
       "version_minor": 0
      },
      "text/plain": [
       "Map:   0%|          | 0/1 [00:00<?, ? examples/s]"
      ]
     },
     "metadata": {},
     "output_type": "display_data"
    },
    {
     "data": {
      "application/vnd.jupyter.widget-view+json": {
       "model_id": "9c8e8f86f1e943f9be07ccaaadb5617f",
       "version_major": 2,
       "version_minor": 0
      },
      "text/plain": [
       "Map:   0%|          | 0/1 [00:00<?, ? examples/s]"
      ]
     },
     "metadata": {},
     "output_type": "display_data"
    }
   ],
   "source": [
    "dataset = generate_non_random_strings(seed=42)\n",
    "encoded_dataset = tokenize_string(tokenizer, dataset)\n",
    "training_dataset = encoded_dataset.remove_columns([\"text\"])\n",
    "data_collator = DataCollatorForLanguageModeling(tokenizer=tokenizer, mlm=False)\n",
    "train_loader = torch.utils.data.DataLoader(training_dataset[\"train\"], shuffle=True, batch_size=1, collate_fn=data_collator)\n",
    "test_loader = torch.utils.data.DataLoader(training_dataset[\"test\"], shuffle=True, batch_size=1, collate_fn=data_collator)\n",
    "model = T5ForConditionalGeneration.from_pretrained(MODEL_LOCATION)"
   ]
  },
  {
   "cell_type": "markdown",
   "metadata": {
    "id": "AxiW-Eh-qjuV"
   },
   "source": [
    "# Initialise model and optimiser for training"
   ]
  },
  {
   "cell_type": "code",
   "execution_count": 7,
   "metadata": {
    "id": "YXb3Sad7hYuO"
   },
   "outputs": [],
   "source": [
    "model.to(device)\n",
    "model.train()\n",
    "optimizer = torch.optim.AdamW(model.parameters(), lr=0.002)"
   ]
  },
  {
   "cell_type": "markdown",
   "metadata": {
    "id": "6wt42ClFqZrU"
   },
   "source": [
    "# Import profiler for tracking the FLOPs"
   ]
  },
  {
   "cell_type": "code",
   "execution_count": 8,
   "metadata": {
    "id": "XwVQuUhmhDtd"
   },
   "outputs": [],
   "source": [
    "from torch.profiler import profile, record_function, ProfilerActivity"
   ]
  },
  {
   "cell_type": "markdown",
   "metadata": {
    "id": "-BLkgTcVqopW"
   },
   "source": [
    "# Training loop with the profiler as a context manager."
   ]
  },
  {
   "cell_type": "markdown",
   "metadata": {
    "id": "-F_XvOHFquHk"
   },
   "source": [
    "The profiler is enabled using a context manager. It records the time and memory consumption of the models that are wrapped inside it."
   ]
  },
  {
   "cell_type": "code",
   "execution_count": 9,
   "metadata": {
    "colab": {
     "base_uri": "https://localhost:8080/"
    },
    "id": "oBv4Mv2phi4k",
    "outputId": "be85211c-a94a-408f-e1ec-cc344862a72b"
   },
   "outputs": [
    {
     "name": "stdout",
     "output_type": "stream",
     "text": [
      "Number of model parameters that are used for training\n",
      "76961152\n",
      "-------------------------------------------------------  ------------  ------------  ------------  ------------  ------------  ------------  ------------  ------------  ------------  ------------  ------------  \n",
      "                                                   Name    Self CPU %      Self CPU   CPU total %     CPU total  CPU time avg     Self CUDA   Self CUDA %    CUDA total  CUDA time avg    # of Calls  Total MFLOPs  \n",
      "-------------------------------------------------------  ------------  ------------  ------------  ------------  ------------  ------------  ------------  ------------  ------------  ------------  ------------  \n",
      "                                               aten::mm         1.65%      27.797ms         5.86%      98.936ms     227.438us       7.480ms         3.09%       7.480ms      17.197us           435     48633.741  \n",
      "                                              aten::bmm         0.25%       4.250ms         0.43%       7.345ms      51.005us       3.904ms         1.61%       3.904ms      27.114us           144      1985.790  \n",
      "                                              aten::mul         1.72%      29.015ms         3.37%      57.013ms      84.463us       1.783ms         0.74%       1.783ms       2.641us           675        53.616  \n",
      "                                              aten::add         0.21%       3.524ms         0.37%       6.216ms      40.361us     343.040us         0.14%     343.040us       2.228us           154         9.800  \n",
      "                                            aten::empty         0.15%       2.558ms         0.22%       3.662ms       9.272us       0.000us         0.00%       0.000us       0.000us           395            --  \n",
      "                                          aten::random_         0.00%      36.920us         0.00%      36.920us      18.460us       0.000us         0.00%       0.000us       0.000us             2            --  \n",
      "                                             aten::item         0.03%     480.170us         0.03%     571.680us       1.489us       0.000us         0.00%       0.000us       0.000us           384            --  \n",
      "                              aten::_local_scalar_dense         0.01%      91.510us         0.01%      91.510us       0.238us       0.000us         0.00%       0.000us       0.000us           384            --  \n",
      "enumerate(DataLoader)#_SingleProcessDataLoaderIter._...         0.08%       1.404ms         0.11%       1.802ms     900.771us       0.000us         0.00%       0.000us       0.000us             2            --  \n",
      "                                         aten::randperm         0.01%     119.246us         0.01%     235.818us      58.955us       0.000us         0.00%       0.000us       0.000us             4            --  \n",
      "-------------------------------------------------------  ------------  ------------  ------------  ------------  ------------  ------------  ------------  ------------  ------------  ------------  ------------  \n",
      "Self CPU time total: 1.689s\n",
      "Self CUDA time total: 241.826ms\n",
      "\n",
      "GFLOPs during training\n",
      "50.682946828\n"
     ]
    }
   ],
   "source": [
    "for epoch in range(1):\n",
    "  with profile(activities=[ProfilerActivity.CPU, ProfilerActivity.CUDA],with_flops=True) as prof:\n",
    "    for idx, batch in enumerate(train_loader):\n",
    "      batch = batch.to(device)\n",
    "\n",
    "      inputs = {'input_ids': batch['input_ids'],'attention_mask': batch['attention_mask'],'labels': batch['labels']}\n",
    "      #print(inputs)\n",
    "      outputs = model(**inputs) # output = loss, logits, past_key_values\n",
    "      print(\"Number of model parameters that are used for training\")\n",
    "      print(sum(p.numel() for p in model.parameters()))\n",
    "      #print(outputs)\n",
    "      loss = outputs.loss\n",
    "      loss.backward()\n",
    "      optimizer.step()\n",
    "      optimizer.zero_grad()\n",
    "  print(prof.key_averages().table(sort_by=\"flops\",row_limit=10))\n",
    "  print(\"GFLOPs during training\") #GigaFLOPs\n",
    "  print(sum(k.flops for k in prof.key_averages())/1e9)\n"
   ]
  },
  {
   "cell_type": "code",
   "execution_count": 10,
   "metadata": {
    "colab": {
     "base_uri": "https://localhost:8080/"
    },
    "id": "hzwTP8IgobIY",
    "outputId": "dbe8cdb1-c380-4e01-ea98-1a5313b2c402"
   },
   "outputs": [
    {
     "name": "stdout",
     "output_type": "stream",
     "text": [
      "Inference time :0.46082472801208496\n",
      "GFLOPs during testing\n",
      "15.197619447\n"
     ]
    }
   ],
   "source": [
    "model.eval()\n",
    "start = time.time()\n",
    "with profile(activities=[ProfilerActivity.CPU, ProfilerActivity.CUDA],with_flops=True) as prof:\n",
    "    for idx, batch in enumerate(test_loader):\n",
    "      batch = batch.to(device)\n",
    "      inputs = {'input_ids': batch['input_ids'],'attention_mask': batch['attention_mask'],'labels': batch['labels']}\n",
    "      #print(inputs)\n",
    "      outputs = model(**inputs) # output = loss, logits, past_key_values\n",
    "print(\"Inference time :\"+str(time.time()-start))\n",
    "#print(prof.key_averages().table(sort_by=\"flops\",row_limit=10))\n",
    "print(\"GFLOPs during testing\") #GigaFLOPs\n",
    "print(sum(k.flops for k in prof.key_averages())/1e9)"
   ]
  }
 ],
 "metadata": {
  "accelerator": "GPU",
  "colab": {
   "gpuType": "T4",
   "provenance": []
  },
  "kernelspec": {
   "display_name": "venv",
   "language": "python",
   "name": "python3"
  },
  "language_info": {
   "codemirror_mode": {
    "name": "ipython",
    "version": 3
   },
   "file_extension": ".py",
   "mimetype": "text/x-python",
   "name": "python",
   "nbconvert_exporter": "python",
   "pygments_lexer": "ipython3",
   "version": "3.11.9"
  },
  "widgets": {
   "application/vnd.jupyter.widget-state+json": {
    "0c716b60f7f64af896cc525feda1450e": {
     "model_module": "@jupyter-widgets/controls",
     "model_module_version": "1.5.0",
     "model_name": "DescriptionStyleModel",
     "state": {
      "_model_module": "@jupyter-widgets/controls",
      "_model_module_version": "1.5.0",
      "_model_name": "DescriptionStyleModel",
      "_view_count": null,
      "_view_module": "@jupyter-widgets/base",
      "_view_module_version": "1.2.0",
      "_view_name": "StyleView",
      "description_width": ""
     }
    },
    "14859e58260f4fc8a4af91a11012fa59": {
     "model_module": "@jupyter-widgets/controls",
     "model_module_version": "1.5.0",
     "model_name": "HTMLModel",
     "state": {
      "_dom_classes": [],
      "_model_module": "@jupyter-widgets/controls",
      "_model_module_version": "1.5.0",
      "_model_name": "HTMLModel",
      "_view_count": null,
      "_view_module": "@jupyter-widgets/controls",
      "_view_module_version": "1.5.0",
      "_view_name": "HTMLView",
      "description": "",
      "description_tooltip": null,
      "layout": "IPY_MODEL_b7c227936f274803a0333d68648d69af",
      "placeholder": "​",
      "style": "IPY_MODEL_48bf99c3683a4821b995131b2e0ffdb4",
      "value": "Map: 100%"
     }
    },
    "1b87c946d3c444af8ab20216879485a9": {
     "model_module": "@jupyter-widgets/controls",
     "model_module_version": "1.5.0",
     "model_name": "HBoxModel",
     "state": {
      "_dom_classes": [],
      "_model_module": "@jupyter-widgets/controls",
      "_model_module_version": "1.5.0",
      "_model_name": "HBoxModel",
      "_view_count": null,
      "_view_module": "@jupyter-widgets/controls",
      "_view_module_version": "1.5.0",
      "_view_name": "HBoxView",
      "box_style": "",
      "children": [
       "IPY_MODEL_14859e58260f4fc8a4af91a11012fa59",
       "IPY_MODEL_b377477f16c24cb38c9f7260331cbb0b",
       "IPY_MODEL_86357ba6c6fa44a482d89baea0031d70"
      ],
      "layout": "IPY_MODEL_8422214c271845a296a0dbe6d24e02b5"
     }
    },
    "3cbee2569f1d48f993b8d5b761f4fbf9": {
     "model_module": "@jupyter-widgets/controls",
     "model_module_version": "1.5.0",
     "model_name": "HTMLModel",
     "state": {
      "_dom_classes": [],
      "_model_module": "@jupyter-widgets/controls",
      "_model_module_version": "1.5.0",
      "_model_name": "HTMLModel",
      "_view_count": null,
      "_view_module": "@jupyter-widgets/controls",
      "_view_module_version": "1.5.0",
      "_view_name": "HTMLView",
      "description": "",
      "description_tooltip": null,
      "layout": "IPY_MODEL_40a9552b209d48b8bfb6bfb07a2fa8f8",
      "placeholder": "​",
      "style": "IPY_MODEL_ef08ce1444564aeeab5a2f1ec5bbe5b9",
      "value": "Map: 100%"
     }
    },
    "40a9552b209d48b8bfb6bfb07a2fa8f8": {
     "model_module": "@jupyter-widgets/base",
     "model_module_version": "1.2.0",
     "model_name": "LayoutModel",
     "state": {
      "_model_module": "@jupyter-widgets/base",
      "_model_module_version": "1.2.0",
      "_model_name": "LayoutModel",
      "_view_count": null,
      "_view_module": "@jupyter-widgets/base",
      "_view_module_version": "1.2.0",
      "_view_name": "LayoutView",
      "align_content": null,
      "align_items": null,
      "align_self": null,
      "border": null,
      "bottom": null,
      "display": null,
      "flex": null,
      "flex_flow": null,
      "grid_area": null,
      "grid_auto_columns": null,
      "grid_auto_flow": null,
      "grid_auto_rows": null,
      "grid_column": null,
      "grid_gap": null,
      "grid_row": null,
      "grid_template_areas": null,
      "grid_template_columns": null,
      "grid_template_rows": null,
      "height": null,
      "justify_content": null,
      "justify_items": null,
      "left": null,
      "margin": null,
      "max_height": null,
      "max_width": null,
      "min_height": null,
      "min_width": null,
      "object_fit": null,
      "object_position": null,
      "order": null,
      "overflow": null,
      "overflow_x": null,
      "overflow_y": null,
      "padding": null,
      "right": null,
      "top": null,
      "visibility": null,
      "width": null
     }
    },
    "48bf99c3683a4821b995131b2e0ffdb4": {
     "model_module": "@jupyter-widgets/controls",
     "model_module_version": "1.5.0",
     "model_name": "DescriptionStyleModel",
     "state": {
      "_model_module": "@jupyter-widgets/controls",
      "_model_module_version": "1.5.0",
      "_model_name": "DescriptionStyleModel",
      "_view_count": null,
      "_view_module": "@jupyter-widgets/base",
      "_view_module_version": "1.2.0",
      "_view_name": "StyleView",
      "description_width": ""
     }
    },
    "54955d0087f7440f98a1bafdf99fc3c9": {
     "model_module": "@jupyter-widgets/controls",
     "model_module_version": "1.5.0",
     "model_name": "DescriptionStyleModel",
     "state": {
      "_model_module": "@jupyter-widgets/controls",
      "_model_module_version": "1.5.0",
      "_model_name": "DescriptionStyleModel",
      "_view_count": null,
      "_view_module": "@jupyter-widgets/base",
      "_view_module_version": "1.2.0",
      "_view_name": "StyleView",
      "description_width": ""
     }
    },
    "56463fdb6c4a45a4b929d113cf4608ff": {
     "model_module": "@jupyter-widgets/controls",
     "model_module_version": "1.5.0",
     "model_name": "HTMLModel",
     "state": {
      "_dom_classes": [],
      "_model_module": "@jupyter-widgets/controls",
      "_model_module_version": "1.5.0",
      "_model_name": "HTMLModel",
      "_view_count": null,
      "_view_module": "@jupyter-widgets/controls",
      "_view_module_version": "1.5.0",
      "_view_name": "HTMLView",
      "description": "",
      "description_tooltip": null,
      "layout": "IPY_MODEL_73ce812b466948b0ae69a3c6ca215ea1",
      "placeholder": "​",
      "style": "IPY_MODEL_0c716b60f7f64af896cc525feda1450e",
      "value": " 1/1 [00:00&lt;00:00, 33.96 examples/s]"
     }
    },
    "6418c8db63ef4048b6a333420dbccb5e": {
     "model_module": "@jupyter-widgets/base",
     "model_module_version": "1.2.0",
     "model_name": "LayoutModel",
     "state": {
      "_model_module": "@jupyter-widgets/base",
      "_model_module_version": "1.2.0",
      "_model_name": "LayoutModel",
      "_view_count": null,
      "_view_module": "@jupyter-widgets/base",
      "_view_module_version": "1.2.0",
      "_view_name": "LayoutView",
      "align_content": null,
      "align_items": null,
      "align_self": null,
      "border": null,
      "bottom": null,
      "display": null,
      "flex": null,
      "flex_flow": null,
      "grid_area": null,
      "grid_auto_columns": null,
      "grid_auto_flow": null,
      "grid_auto_rows": null,
      "grid_column": null,
      "grid_gap": null,
      "grid_row": null,
      "grid_template_areas": null,
      "grid_template_columns": null,
      "grid_template_rows": null,
      "height": null,
      "justify_content": null,
      "justify_items": null,
      "left": null,
      "margin": null,
      "max_height": null,
      "max_width": null,
      "min_height": null,
      "min_width": null,
      "object_fit": null,
      "object_position": null,
      "order": null,
      "overflow": null,
      "overflow_x": null,
      "overflow_y": null,
      "padding": null,
      "right": null,
      "top": null,
      "visibility": null,
      "width": null
     }
    },
    "6fa77c1b1e9a4b2293c171a03a7bd945": {
     "model_module": "@jupyter-widgets/controls",
     "model_module_version": "1.5.0",
     "model_name": "ProgressStyleModel",
     "state": {
      "_model_module": "@jupyter-widgets/controls",
      "_model_module_version": "1.5.0",
      "_model_name": "ProgressStyleModel",
      "_view_count": null,
      "_view_module": "@jupyter-widgets/base",
      "_view_module_version": "1.2.0",
      "_view_name": "StyleView",
      "bar_color": null,
      "description_width": ""
     }
    },
    "73ce812b466948b0ae69a3c6ca215ea1": {
     "model_module": "@jupyter-widgets/base",
     "model_module_version": "1.2.0",
     "model_name": "LayoutModel",
     "state": {
      "_model_module": "@jupyter-widgets/base",
      "_model_module_version": "1.2.0",
      "_model_name": "LayoutModel",
      "_view_count": null,
      "_view_module": "@jupyter-widgets/base",
      "_view_module_version": "1.2.0",
      "_view_name": "LayoutView",
      "align_content": null,
      "align_items": null,
      "align_self": null,
      "border": null,
      "bottom": null,
      "display": null,
      "flex": null,
      "flex_flow": null,
      "grid_area": null,
      "grid_auto_columns": null,
      "grid_auto_flow": null,
      "grid_auto_rows": null,
      "grid_column": null,
      "grid_gap": null,
      "grid_row": null,
      "grid_template_areas": null,
      "grid_template_columns": null,
      "grid_template_rows": null,
      "height": null,
      "justify_content": null,
      "justify_items": null,
      "left": null,
      "margin": null,
      "max_height": null,
      "max_width": null,
      "min_height": null,
      "min_width": null,
      "object_fit": null,
      "object_position": null,
      "order": null,
      "overflow": null,
      "overflow_x": null,
      "overflow_y": null,
      "padding": null,
      "right": null,
      "top": null,
      "visibility": null,
      "width": null
     }
    },
    "7c9a2d48bbb84201857f2f85bbd48850": {
     "model_module": "@jupyter-widgets/base",
     "model_module_version": "1.2.0",
     "model_name": "LayoutModel",
     "state": {
      "_model_module": "@jupyter-widgets/base",
      "_model_module_version": "1.2.0",
      "_model_name": "LayoutModel",
      "_view_count": null,
      "_view_module": "@jupyter-widgets/base",
      "_view_module_version": "1.2.0",
      "_view_name": "LayoutView",
      "align_content": null,
      "align_items": null,
      "align_self": null,
      "border": null,
      "bottom": null,
      "display": null,
      "flex": null,
      "flex_flow": null,
      "grid_area": null,
      "grid_auto_columns": null,
      "grid_auto_flow": null,
      "grid_auto_rows": null,
      "grid_column": null,
      "grid_gap": null,
      "grid_row": null,
      "grid_template_areas": null,
      "grid_template_columns": null,
      "grid_template_rows": null,
      "height": null,
      "justify_content": null,
      "justify_items": null,
      "left": null,
      "margin": null,
      "max_height": null,
      "max_width": null,
      "min_height": null,
      "min_width": null,
      "object_fit": null,
      "object_position": null,
      "order": null,
      "overflow": null,
      "overflow_x": null,
      "overflow_y": null,
      "padding": null,
      "right": null,
      "top": null,
      "visibility": null,
      "width": null
     }
    },
    "8422214c271845a296a0dbe6d24e02b5": {
     "model_module": "@jupyter-widgets/base",
     "model_module_version": "1.2.0",
     "model_name": "LayoutModel",
     "state": {
      "_model_module": "@jupyter-widgets/base",
      "_model_module_version": "1.2.0",
      "_model_name": "LayoutModel",
      "_view_count": null,
      "_view_module": "@jupyter-widgets/base",
      "_view_module_version": "1.2.0",
      "_view_name": "LayoutView",
      "align_content": null,
      "align_items": null,
      "align_self": null,
      "border": null,
      "bottom": null,
      "display": null,
      "flex": null,
      "flex_flow": null,
      "grid_area": null,
      "grid_auto_columns": null,
      "grid_auto_flow": null,
      "grid_auto_rows": null,
      "grid_column": null,
      "grid_gap": null,
      "grid_row": null,
      "grid_template_areas": null,
      "grid_template_columns": null,
      "grid_template_rows": null,
      "height": null,
      "justify_content": null,
      "justify_items": null,
      "left": null,
      "margin": null,
      "max_height": null,
      "max_width": null,
      "min_height": null,
      "min_width": null,
      "object_fit": null,
      "object_position": null,
      "order": null,
      "overflow": null,
      "overflow_x": null,
      "overflow_y": null,
      "padding": null,
      "right": null,
      "top": null,
      "visibility": null,
      "width": null
     }
    },
    "86357ba6c6fa44a482d89baea0031d70": {
     "model_module": "@jupyter-widgets/controls",
     "model_module_version": "1.5.0",
     "model_name": "HTMLModel",
     "state": {
      "_dom_classes": [],
      "_model_module": "@jupyter-widgets/controls",
      "_model_module_version": "1.5.0",
      "_model_name": "HTMLModel",
      "_view_count": null,
      "_view_module": "@jupyter-widgets/controls",
      "_view_module_version": "1.5.0",
      "_view_name": "HTMLView",
      "description": "",
      "description_tooltip": null,
      "layout": "IPY_MODEL_6418c8db63ef4048b6a333420dbccb5e",
      "placeholder": "​",
      "style": "IPY_MODEL_54955d0087f7440f98a1bafdf99fc3c9",
      "value": " 1/1 [00:00&lt;00:00, 15.76 examples/s]"
     }
    },
    "99f7d673dd694648b7812f0640126e27": {
     "model_module": "@jupyter-widgets/controls",
     "model_module_version": "1.5.0",
     "model_name": "HBoxModel",
     "state": {
      "_dom_classes": [],
      "_model_module": "@jupyter-widgets/controls",
      "_model_module_version": "1.5.0",
      "_model_name": "HBoxModel",
      "_view_count": null,
      "_view_module": "@jupyter-widgets/controls",
      "_view_module_version": "1.5.0",
      "_view_name": "HBoxView",
      "box_style": "",
      "children": [
       "IPY_MODEL_3cbee2569f1d48f993b8d5b761f4fbf9",
       "IPY_MODEL_9df795c5c73f4bb0a04d6239458b2f37",
       "IPY_MODEL_56463fdb6c4a45a4b929d113cf4608ff"
      ],
      "layout": "IPY_MODEL_d6bd9ba9fd744bf6aa89588c09d331f4"
     }
    },
    "9df795c5c73f4bb0a04d6239458b2f37": {
     "model_module": "@jupyter-widgets/controls",
     "model_module_version": "1.5.0",
     "model_name": "FloatProgressModel",
     "state": {
      "_dom_classes": [],
      "_model_module": "@jupyter-widgets/controls",
      "_model_module_version": "1.5.0",
      "_model_name": "FloatProgressModel",
      "_view_count": null,
      "_view_module": "@jupyter-widgets/controls",
      "_view_module_version": "1.5.0",
      "_view_name": "ProgressView",
      "bar_style": "success",
      "description": "",
      "description_tooltip": null,
      "layout": "IPY_MODEL_a1fa100215d64eac9e3b3bc3ff6adebe",
      "max": 1,
      "min": 0,
      "orientation": "horizontal",
      "style": "IPY_MODEL_ba4e567b7e494eada16493c7c24741fc",
      "value": 1
     }
    },
    "a1fa100215d64eac9e3b3bc3ff6adebe": {
     "model_module": "@jupyter-widgets/base",
     "model_module_version": "1.2.0",
     "model_name": "LayoutModel",
     "state": {
      "_model_module": "@jupyter-widgets/base",
      "_model_module_version": "1.2.0",
      "_model_name": "LayoutModel",
      "_view_count": null,
      "_view_module": "@jupyter-widgets/base",
      "_view_module_version": "1.2.0",
      "_view_name": "LayoutView",
      "align_content": null,
      "align_items": null,
      "align_self": null,
      "border": null,
      "bottom": null,
      "display": null,
      "flex": null,
      "flex_flow": null,
      "grid_area": null,
      "grid_auto_columns": null,
      "grid_auto_flow": null,
      "grid_auto_rows": null,
      "grid_column": null,
      "grid_gap": null,
      "grid_row": null,
      "grid_template_areas": null,
      "grid_template_columns": null,
      "grid_template_rows": null,
      "height": null,
      "justify_content": null,
      "justify_items": null,
      "left": null,
      "margin": null,
      "max_height": null,
      "max_width": null,
      "min_height": null,
      "min_width": null,
      "object_fit": null,
      "object_position": null,
      "order": null,
      "overflow": null,
      "overflow_x": null,
      "overflow_y": null,
      "padding": null,
      "right": null,
      "top": null,
      "visibility": null,
      "width": null
     }
    },
    "b377477f16c24cb38c9f7260331cbb0b": {
     "model_module": "@jupyter-widgets/controls",
     "model_module_version": "1.5.0",
     "model_name": "FloatProgressModel",
     "state": {
      "_dom_classes": [],
      "_model_module": "@jupyter-widgets/controls",
      "_model_module_version": "1.5.0",
      "_model_name": "FloatProgressModel",
      "_view_count": null,
      "_view_module": "@jupyter-widgets/controls",
      "_view_module_version": "1.5.0",
      "_view_name": "ProgressView",
      "bar_style": "success",
      "description": "",
      "description_tooltip": null,
      "layout": "IPY_MODEL_7c9a2d48bbb84201857f2f85bbd48850",
      "max": 1,
      "min": 0,
      "orientation": "horizontal",
      "style": "IPY_MODEL_6fa77c1b1e9a4b2293c171a03a7bd945",
      "value": 1
     }
    },
    "b7c227936f274803a0333d68648d69af": {
     "model_module": "@jupyter-widgets/base",
     "model_module_version": "1.2.0",
     "model_name": "LayoutModel",
     "state": {
      "_model_module": "@jupyter-widgets/base",
      "_model_module_version": "1.2.0",
      "_model_name": "LayoutModel",
      "_view_count": null,
      "_view_module": "@jupyter-widgets/base",
      "_view_module_version": "1.2.0",
      "_view_name": "LayoutView",
      "align_content": null,
      "align_items": null,
      "align_self": null,
      "border": null,
      "bottom": null,
      "display": null,
      "flex": null,
      "flex_flow": null,
      "grid_area": null,
      "grid_auto_columns": null,
      "grid_auto_flow": null,
      "grid_auto_rows": null,
      "grid_column": null,
      "grid_gap": null,
      "grid_row": null,
      "grid_template_areas": null,
      "grid_template_columns": null,
      "grid_template_rows": null,
      "height": null,
      "justify_content": null,
      "justify_items": null,
      "left": null,
      "margin": null,
      "max_height": null,
      "max_width": null,
      "min_height": null,
      "min_width": null,
      "object_fit": null,
      "object_position": null,
      "order": null,
      "overflow": null,
      "overflow_x": null,
      "overflow_y": null,
      "padding": null,
      "right": null,
      "top": null,
      "visibility": null,
      "width": null
     }
    },
    "ba4e567b7e494eada16493c7c24741fc": {
     "model_module": "@jupyter-widgets/controls",
     "model_module_version": "1.5.0",
     "model_name": "ProgressStyleModel",
     "state": {
      "_model_module": "@jupyter-widgets/controls",
      "_model_module_version": "1.5.0",
      "_model_name": "ProgressStyleModel",
      "_view_count": null,
      "_view_module": "@jupyter-widgets/base",
      "_view_module_version": "1.2.0",
      "_view_name": "StyleView",
      "bar_color": null,
      "description_width": ""
     }
    },
    "d6bd9ba9fd744bf6aa89588c09d331f4": {
     "model_module": "@jupyter-widgets/base",
     "model_module_version": "1.2.0",
     "model_name": "LayoutModel",
     "state": {
      "_model_module": "@jupyter-widgets/base",
      "_model_module_version": "1.2.0",
      "_model_name": "LayoutModel",
      "_view_count": null,
      "_view_module": "@jupyter-widgets/base",
      "_view_module_version": "1.2.0",
      "_view_name": "LayoutView",
      "align_content": null,
      "align_items": null,
      "align_self": null,
      "border": null,
      "bottom": null,
      "display": null,
      "flex": null,
      "flex_flow": null,
      "grid_area": null,
      "grid_auto_columns": null,
      "grid_auto_flow": null,
      "grid_auto_rows": null,
      "grid_column": null,
      "grid_gap": null,
      "grid_row": null,
      "grid_template_areas": null,
      "grid_template_columns": null,
      "grid_template_rows": null,
      "height": null,
      "justify_content": null,
      "justify_items": null,
      "left": null,
      "margin": null,
      "max_height": null,
      "max_width": null,
      "min_height": null,
      "min_width": null,
      "object_fit": null,
      "object_position": null,
      "order": null,
      "overflow": null,
      "overflow_x": null,
      "overflow_y": null,
      "padding": null,
      "right": null,
      "top": null,
      "visibility": null,
      "width": null
     }
    },
    "ef08ce1444564aeeab5a2f1ec5bbe5b9": {
     "model_module": "@jupyter-widgets/controls",
     "model_module_version": "1.5.0",
     "model_name": "DescriptionStyleModel",
     "state": {
      "_model_module": "@jupyter-widgets/controls",
      "_model_module_version": "1.5.0",
      "_model_name": "DescriptionStyleModel",
      "_view_count": null,
      "_view_module": "@jupyter-widgets/base",
      "_view_module_version": "1.2.0",
      "_view_name": "StyleView",
      "description_width": ""
     }
    }
   }
  }
 },
 "nbformat": 4,
 "nbformat_minor": 0
}
