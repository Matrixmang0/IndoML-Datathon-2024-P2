{
 "cells": [
  {
   "cell_type": "code",
   "execution_count": 9,
   "metadata": {},
   "outputs": [],
   "source": [
    "import requests\n",
    "from bs4 import BeautifulSoup\n",
    "import random\n",
    "import time\n",
    "\n",
    "def get_search_result(query, num_results=10):\n",
    "    \n",
    "    time.sleep(random.uniform(1, 3))\n",
    "\n",
    "    url = f\"https://www.google.com/search?q={query}&num={num_results}\"\n",
    "    \n",
    "    # List of user agents to rotate\n",
    "    user_agents = [\n",
    "        'Mozilla/5.0 (Windows NT 10.0; Win64; x64) AppleWebKit/537.36 (KHTML, like Gecko) Chrome/91.0.4472.124 Safari/537.36',\n",
    "        'Mozilla/5.0 (Macintosh; Intel Mac OS X 10_15_7) AppleWebKit/537.36 (KHTML, like Gecko) Chrome/91.0.4472.124 Safari/537.36',\n",
    "        'Mozilla/5.0 (Windows NT 10.0; Win64; x64; rv:89.0) Gecko/20100101 Firefox/89.0',\n",
    "    ]\n",
    "    \n",
    "    headers = {\n",
    "        'User-Agent': random.choice(user_agents),\n",
    "        'Accept': 'text/html,application/xhtml+xml,application/xml;q=0.9,image/webp,*/*;q=0.8',\n",
    "        'Accept-Language': 'en-US,en;q=0.5',\n",
    "        'Referer': 'https://www.google.com/',\n",
    "    }\n",
    "    \n",
    "    response = requests.get(url, headers=headers)\n",
    "    soup = BeautifulSoup(response.text, 'html.parser')\n",
    "\n",
    "    link = None\n",
    "    \n",
    "    for g in soup.find_all('div', class_='yuRUbf'):\n",
    "        anchors = g.find_all('a')\n",
    "        if anchors:\n",
    "            link = anchors[0]['href']\n",
    "            if 'amazon' in link:\n",
    "                break\n",
    "    \n",
    "    return link"
   ]
  },
  {
   "cell_type": "code",
   "execution_count": 10,
   "metadata": {},
   "outputs": [
    {
     "name": "stdout",
     "output_type": "stream",
     "text": [
      "https://www.amazon.in/\n"
     ]
    }
   ],
   "source": [
    "query = 'amazon'\n",
    "result = get_search_result(query, 7)\n",
    "    \n",
    "print(result)"
   ]
  },
  {
   "cell_type": "code",
   "execution_count": 11,
   "metadata": {},
   "outputs": [],
   "source": [
    "import pandas as pd\n",
    "\n",
    "train_features = pd.read_json('./datathon_phase_2_data/training_data/train.features', lines=True)"
   ]
  },
  {
   "cell_type": "code",
   "execution_count": 12,
   "metadata": {},
   "outputs": [
    {
     "data": {
      "text/html": [
       "<div>\n",
       "<style scoped>\n",
       "    .dataframe tbody tr th:only-of-type {\n",
       "        vertical-align: middle;\n",
       "    }\n",
       "\n",
       "    .dataframe tbody tr th {\n",
       "        vertical-align: top;\n",
       "    }\n",
       "\n",
       "    .dataframe thead th {\n",
       "        text-align: right;\n",
       "    }\n",
       "</style>\n",
       "<table border=\"1\" class=\"dataframe\">\n",
       "  <thead>\n",
       "    <tr style=\"text-align: right;\">\n",
       "      <th></th>\n",
       "      <th>indoml_id</th>\n",
       "      <th>description</th>\n",
       "      <th>retailer</th>\n",
       "      <th>price</th>\n",
       "    </tr>\n",
       "  </thead>\n",
       "  <tbody>\n",
       "    <tr>\n",
       "      <th>0</th>\n",
       "      <td>0</td>\n",
       "      <td>1 adblue</td>\n",
       "      <td>organicorner</td>\n",
       "      <td>25.35</td>\n",
       "    </tr>\n",
       "    <tr>\n",
       "      <th>1</th>\n",
       "      <td>1</td>\n",
       "      <td>1 car mat set</td>\n",
       "      <td>greenharbor</td>\n",
       "      <td>4.99</td>\n",
       "    </tr>\n",
       "    <tr>\n",
       "      <th>2</th>\n",
       "      <td>2</td>\n",
       "      <td>1 cp rmx scrnwash</td>\n",
       "      <td>naturify</td>\n",
       "      <td>3.85</td>\n",
       "    </tr>\n",
       "    <tr>\n",
       "      <th>3</th>\n",
       "      <td>3</td>\n",
       "      <td>1 diesel</td>\n",
       "      <td>ecogro</td>\n",
       "      <td>4.41</td>\n",
       "    </tr>\n",
       "    <tr>\n",
       "      <th>4</th>\n",
       "      <td>4</td>\n",
       "      <td>1 unstoppable refrsher</td>\n",
       "      <td>greenharbor</td>\n",
       "      <td>3.00</td>\n",
       "    </tr>\n",
       "    <tr>\n",
       "      <th>...</th>\n",
       "      <td>...</td>\n",
       "      <td>...</td>\n",
       "      <td>...</td>\n",
       "      <td>...</td>\n",
       "    </tr>\n",
       "    <tr>\n",
       "      <th>561833</th>\n",
       "      <td>561833</td>\n",
       "      <td>zuru xshot excelxcess</td>\n",
       "      <td>noshify</td>\n",
       "      <td>16.99</td>\n",
       "    </tr>\n",
       "    <tr>\n",
       "      <th>561834</th>\n",
       "      <td>561834</td>\n",
       "      <td>zuru xshot micro</td>\n",
       "      <td>vitalveg</td>\n",
       "      <td>3.50</td>\n",
       "    </tr>\n",
       "    <tr>\n",
       "      <th>561835</th>\n",
       "      <td>561835</td>\n",
       "      <td>zuru xshot typhoon thunder</td>\n",
       "      <td>crispcorner</td>\n",
       "      <td>8.50</td>\n",
       "    </tr>\n",
       "    <tr>\n",
       "      <th>561836</th>\n",
       "      <td>561836</td>\n",
       "      <td>zzand</td>\n",
       "      <td>snackify</td>\n",
       "      <td>4.79</td>\n",
       "    </tr>\n",
       "    <tr>\n",
       "      <th>561837</th>\n",
       "      <td>561837</td>\n",
       "      <td>zzand sand set dinounicon</td>\n",
       "      <td>noshify</td>\n",
       "      <td>6.99</td>\n",
       "    </tr>\n",
       "  </tbody>\n",
       "</table>\n",
       "<p>561838 rows × 4 columns</p>\n",
       "</div>"
      ],
      "text/plain": [
       "        indoml_id                 description      retailer  price\n",
       "0               0                    1 adblue  organicorner  25.35\n",
       "1               1               1 car mat set   greenharbor   4.99\n",
       "2               2           1 cp rmx scrnwash      naturify   3.85\n",
       "3               3                    1 diesel        ecogro   4.41\n",
       "4               4      1 unstoppable refrsher   greenharbor   3.00\n",
       "...           ...                         ...           ...    ...\n",
       "561833     561833       zuru xshot excelxcess       noshify  16.99\n",
       "561834     561834            zuru xshot micro      vitalveg   3.50\n",
       "561835     561835  zuru xshot typhoon thunder   crispcorner   8.50\n",
       "561836     561836                       zzand      snackify   4.79\n",
       "561837     561837   zzand sand set dinounicon       noshify   6.99\n",
       "\n",
       "[561838 rows x 4 columns]"
      ]
     },
     "execution_count": 12,
     "metadata": {},
     "output_type": "execute_result"
    }
   ],
   "source": [
    "train_features"
   ]
  },
  {
   "cell_type": "code",
   "execution_count": 13,
   "metadata": {},
   "outputs": [],
   "source": [
    "train_features['title'] = train_features['description']\n",
    "train_features = train_features.drop(['description'], axis=1)"
   ]
  },
  {
   "cell_type": "code",
   "execution_count": 14,
   "metadata": {},
   "outputs": [
    {
     "data": {
      "text/html": [
       "<div>\n",
       "<style scoped>\n",
       "    .dataframe tbody tr th:only-of-type {\n",
       "        vertical-align: middle;\n",
       "    }\n",
       "\n",
       "    .dataframe tbody tr th {\n",
       "        vertical-align: top;\n",
       "    }\n",
       "\n",
       "    .dataframe thead th {\n",
       "        text-align: right;\n",
       "    }\n",
       "</style>\n",
       "<table border=\"1\" class=\"dataframe\">\n",
       "  <thead>\n",
       "    <tr style=\"text-align: right;\">\n",
       "      <th></th>\n",
       "      <th>indoml_id</th>\n",
       "      <th>retailer</th>\n",
       "      <th>price</th>\n",
       "      <th>title</th>\n",
       "    </tr>\n",
       "  </thead>\n",
       "  <tbody>\n",
       "    <tr>\n",
       "      <th>0</th>\n",
       "      <td>0</td>\n",
       "      <td>organicorner</td>\n",
       "      <td>25.35</td>\n",
       "      <td>1 adblue</td>\n",
       "    </tr>\n",
       "    <tr>\n",
       "      <th>1</th>\n",
       "      <td>1</td>\n",
       "      <td>greenharbor</td>\n",
       "      <td>4.99</td>\n",
       "      <td>1 car mat set</td>\n",
       "    </tr>\n",
       "    <tr>\n",
       "      <th>2</th>\n",
       "      <td>2</td>\n",
       "      <td>naturify</td>\n",
       "      <td>3.85</td>\n",
       "      <td>1 cp rmx scrnwash</td>\n",
       "    </tr>\n",
       "    <tr>\n",
       "      <th>3</th>\n",
       "      <td>3</td>\n",
       "      <td>ecogro</td>\n",
       "      <td>4.41</td>\n",
       "      <td>1 diesel</td>\n",
       "    </tr>\n",
       "    <tr>\n",
       "      <th>4</th>\n",
       "      <td>4</td>\n",
       "      <td>greenharbor</td>\n",
       "      <td>3.00</td>\n",
       "      <td>1 unstoppable refrsher</td>\n",
       "    </tr>\n",
       "    <tr>\n",
       "      <th>...</th>\n",
       "      <td>...</td>\n",
       "      <td>...</td>\n",
       "      <td>...</td>\n",
       "      <td>...</td>\n",
       "    </tr>\n",
       "    <tr>\n",
       "      <th>561833</th>\n",
       "      <td>561833</td>\n",
       "      <td>noshify</td>\n",
       "      <td>16.99</td>\n",
       "      <td>zuru xshot excelxcess</td>\n",
       "    </tr>\n",
       "    <tr>\n",
       "      <th>561834</th>\n",
       "      <td>561834</td>\n",
       "      <td>vitalveg</td>\n",
       "      <td>3.50</td>\n",
       "      <td>zuru xshot micro</td>\n",
       "    </tr>\n",
       "    <tr>\n",
       "      <th>561835</th>\n",
       "      <td>561835</td>\n",
       "      <td>crispcorner</td>\n",
       "      <td>8.50</td>\n",
       "      <td>zuru xshot typhoon thunder</td>\n",
       "    </tr>\n",
       "    <tr>\n",
       "      <th>561836</th>\n",
       "      <td>561836</td>\n",
       "      <td>snackify</td>\n",
       "      <td>4.79</td>\n",
       "      <td>zzand</td>\n",
       "    </tr>\n",
       "    <tr>\n",
       "      <th>561837</th>\n",
       "      <td>561837</td>\n",
       "      <td>noshify</td>\n",
       "      <td>6.99</td>\n",
       "      <td>zzand sand set dinounicon</td>\n",
       "    </tr>\n",
       "  </tbody>\n",
       "</table>\n",
       "<p>561838 rows × 4 columns</p>\n",
       "</div>"
      ],
      "text/plain": [
       "        indoml_id      retailer  price                       title\n",
       "0               0  organicorner  25.35                    1 adblue\n",
       "1               1   greenharbor   4.99               1 car mat set\n",
       "2               2      naturify   3.85           1 cp rmx scrnwash\n",
       "3               3        ecogro   4.41                    1 diesel\n",
       "4               4   greenharbor   3.00      1 unstoppable refrsher\n",
       "...           ...           ...    ...                         ...\n",
       "561833     561833       noshify  16.99       zuru xshot excelxcess\n",
       "561834     561834      vitalveg   3.50            zuru xshot micro\n",
       "561835     561835   crispcorner   8.50  zuru xshot typhoon thunder\n",
       "561836     561836      snackify   4.79                       zzand\n",
       "561837     561837       noshify   6.99   zzand sand set dinounicon\n",
       "\n",
       "[561838 rows x 4 columns]"
      ]
     },
     "execution_count": 14,
     "metadata": {},
     "output_type": "execute_result"
    }
   ],
   "source": [
    "train_features"
   ]
  },
  {
   "cell_type": "code",
   "execution_count": 15,
   "metadata": {},
   "outputs": [],
   "source": [
    "from tqdm import tqdm"
   ]
  },
  {
   "cell_type": "code",
   "execution_count": 16,
   "metadata": {},
   "outputs": [
    {
     "name": "stderr",
     "output_type": "stream",
     "text": [
      "Processing:   0%|          | 22/561838 [01:44<739:20:45,  4.74s/title]"
     ]
    },
    {
     "name": "stdout",
     "output_type": "stream",
     "text": [
      "Row index 21 cannot be extracted for the query 2639203 organify panel hood\n"
     ]
    },
    {
     "name": "stderr",
     "output_type": "stream",
     "text": [
      "Processing:   0%|          | 35/561838 [02:37<700:41:37,  4.49s/title]\n"
     ]
    },
    {
     "ename": "KeyboardInterrupt",
     "evalue": "",
     "output_type": "error",
     "traceback": [
      "\u001b[0;31m---------------------------------------------------------------------------\u001b[0m",
      "\u001b[0;31mKeyboardInterrupt\u001b[0m                         Traceback (most recent call last)",
      "Cell \u001b[0;32mIn[16], line 6\u001b[0m\n\u001b[1;32m      4\u001b[0m \u001b[38;5;28;01mfor\u001b[39;00m title \u001b[38;5;129;01min\u001b[39;00m tqdm(titles, desc\u001b[38;5;241m=\u001b[39m\u001b[38;5;124m\"\u001b[39m\u001b[38;5;124mProcessing\u001b[39m\u001b[38;5;124m\"\u001b[39m, unit\u001b[38;5;241m=\u001b[39m\u001b[38;5;124m\"\u001b[39m\u001b[38;5;124mtitle\u001b[39m\u001b[38;5;124m\"\u001b[39m):\n\u001b[1;32m      5\u001b[0m     query \u001b[38;5;241m=\u001b[39m title \u001b[38;5;241m+\u001b[39m \u001b[38;5;124m'\u001b[39m\u001b[38;5;124m amazon\u001b[39m\u001b[38;5;124m'\u001b[39m\n\u001b[0;32m----> 6\u001b[0m     result \u001b[38;5;241m=\u001b[39m \u001b[43mget_search_result\u001b[49m\u001b[43m(\u001b[49m\u001b[43mquery\u001b[49m\u001b[43m,\u001b[49m\u001b[43m \u001b[49m\u001b[38;5;241;43m10\u001b[39;49m\u001b[43m)\u001b[49m\n\u001b[1;32m      7\u001b[0m     \u001b[38;5;28;01mif\u001b[39;00m result:\n\u001b[1;32m      8\u001b[0m         links_list\u001b[38;5;241m.\u001b[39mappend(result)\n",
      "Cell \u001b[0;32mIn[9], line 8\u001b[0m, in \u001b[0;36mget_search_result\u001b[0;34m(query, num_results)\u001b[0m\n\u001b[1;32m      6\u001b[0m \u001b[38;5;28;01mdef\u001b[39;00m \u001b[38;5;21mget_search_result\u001b[39m(query, num_results\u001b[38;5;241m=\u001b[39m\u001b[38;5;241m10\u001b[39m):\n\u001b[0;32m----> 8\u001b[0m     time\u001b[38;5;241m.\u001b[39msleep(random\u001b[38;5;241m.\u001b[39muniform(\u001b[38;5;241m1\u001b[39m, \u001b[38;5;241m3\u001b[39m))\n\u001b[1;32m     10\u001b[0m     url \u001b[38;5;241m=\u001b[39m \u001b[38;5;124mf\u001b[39m\u001b[38;5;124m\"\u001b[39m\u001b[38;5;124mhttps://www.google.com/search?q=\u001b[39m\u001b[38;5;132;01m{\u001b[39;00mquery\u001b[38;5;132;01m}\u001b[39;00m\u001b[38;5;124m&num=\u001b[39m\u001b[38;5;132;01m{\u001b[39;00mnum_results\u001b[38;5;132;01m}\u001b[39;00m\u001b[38;5;124m\"\u001b[39m\n\u001b[1;32m     12\u001b[0m     \u001b[38;5;66;03m# List of user agents to rotate\u001b[39;00m\n",
      "\u001b[0;31mKeyboardInterrupt\u001b[0m: "
     ]
    }
   ],
   "source": [
    "titles = train_features['title']\n",
    "links_list = []\n",
    "row = 0\n",
    "for title in tqdm(titles, desc=\"Processing\", unit=\"title\"):\n",
    "    query = title + ' amazon'\n",
    "    result = get_search_result(query, 10)\n",
    "    if result:\n",
    "        links_list.append(result)\n",
    "    else:\n",
    "        print('Row index', row, 'cannot be extracted for the query', title)\n",
    "    row += 1"
   ]
  },
  {
   "cell_type": "code",
   "execution_count": null,
   "metadata": {},
   "outputs": [],
   "source": [
    "result"
   ]
  },
  {
   "cell_type": "code",
   "execution_count": null,
   "metadata": {},
   "outputs": [],
   "source": [
    "link"
   ]
  },
  {
   "cell_type": "code",
   "execution_count": null,
   "metadata": {},
   "outputs": [],
   "source": []
  }
 ],
 "metadata": {
  "kernelspec": {
   "display_name": "venv",
   "language": "python",
   "name": "python3"
  },
  "language_info": {
   "codemirror_mode": {
    "name": "ipython",
    "version": 3
   },
   "file_extension": ".py",
   "mimetype": "text/x-python",
   "name": "python",
   "nbconvert_exporter": "python",
   "pygments_lexer": "ipython3",
   "version": "3.11.9"
  }
 },
 "nbformat": 4,
 "nbformat_minor": 2
}
